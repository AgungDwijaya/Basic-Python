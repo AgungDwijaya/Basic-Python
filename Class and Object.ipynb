{
 "cells": [
  {
   "cell_type": "code",
   "execution_count": 3,
   "metadata": {},
   "outputs": [
    {
     "name": "stdout",
     "output_type": "stream",
     "text": [
      "gung gamer pro\n",
      "gung Apa kabar?\n",
      "jaya Apa kabar?\n",
      "jaya coding pro\n"
     ]
    }
   ],
   "source": [
    "class Human:\n",
    "    def __init__(self, nama, pekerjaan):\n",
    "        self.nama = nama\n",
    "        self.pekerjaan = pekerjaan  #ini merupakan property dari class\n",
    "        \n",
    "    def kekuatan(self):\n",
    "        if self.pekerjaan == \"gamer\":\n",
    "            print(self.nama,\"gamer pro\")\n",
    "        elif self.pekerjaan == \"coding\":\n",
    "            print(self.nama, \"coding pro\") #ini merupakan method\n",
    "            \n",
    "    def ngomong(self):\n",
    "        print(self.nama, \"Apa kabar?\")\n",
    "        \n",
    "gung = Human(\"gung\",\"gamer\")\n",
    "gung.kekuatan()\n",
    "gung.ngomong()\n",
    "        \n",
    "jaya = Human(\"jaya\",\"coding\")\n",
    "jaya.ngomong()\n",
    "jaya.kekuatan()"
   ]
  },
  {
   "cell_type": "code",
   "execution_count": null,
   "metadata": {},
   "outputs": [],
   "source": []
  }
 ],
 "metadata": {
  "kernelspec": {
   "display_name": "Python 3",
   "language": "python",
   "name": "python3"
  },
  "language_info": {
   "codemirror_mode": {
    "name": "ipython",
    "version": 3
   },
   "file_extension": ".py",
   "mimetype": "text/x-python",
   "name": "python",
   "nbconvert_exporter": "python",
   "pygments_lexer": "ipython3",
   "version": "3.7.4"
  }
 },
 "nbformat": 4,
 "nbformat_minor": 2
}
