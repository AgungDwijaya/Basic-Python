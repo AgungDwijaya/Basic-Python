{
 "cells": [
  {
   "cell_type": "markdown",
   "metadata": {},
   "source": [
    "# JSON merupakan format yang dapat di implementasi ke semua bahasa pemrograman\n"
   ]
  },
  {
   "cell_type": "code",
   "execution_count": 7,
   "metadata": {},
   "outputs": [],
   "source": [
    "biodata = {}\n",
    "biodata['gung'] = {\n",
    "    'nama' : 'gung',\n",
    "    'alamat' : 'PCA1',\n",
    "    'nomor' : 1234\n",
    "}\n",
    "\n",
    "biodata['jaya'] = {\n",
    "    'nama' : 'jaya',\n",
    "    'alamat' : 'PCA2',\n",
    "    'nomor' : 4321\n",
    "}\n",
    "\n",
    "import json\n",
    "x = json.dumps(biodata)\n",
    "with open(\"json.txt\", \"w\") as f:\n",
    "    f.write(x)"
   ]
  },
  {
   "cell_type": "code",
   "execution_count": 9,
   "metadata": {},
   "outputs": [
    {
     "data": {
      "text/plain": [
       "'{\"gung\": {\"nama\": \"gung\", \"alamat\": \"PCA1\", \"nomor\": 1234}, \"jaya\": {\"nama\": \"jaya\", \"alamat\": \"PCA2\", \"nomor\": 4321}}'"
      ]
     },
     "execution_count": 9,
     "metadata": {},
     "output_type": "execute_result"
    }
   ],
   "source": [
    "f = open(\"json.txt\", \"r\") # ini masih dalam format string\n",
    "s = f.read()\n",
    "s"
   ]
  },
  {
   "cell_type": "code",
   "execution_count": 10,
   "metadata": {},
   "outputs": [
    {
     "data": {
      "text/plain": [
       "{'gung': {'nama': 'gung', 'alamat': 'PCA1', 'nomor': 1234},\n",
       " 'jaya': {'nama': 'jaya', 'alamat': 'PCA2', 'nomor': 4321}}"
      ]
     },
     "execution_count": 10,
     "metadata": {},
     "output_type": "execute_result"
    }
   ],
   "source": [
    "import json\n",
    "biodata = json.loads(s) #ini dalam format dictionary\n",
    "biodata"
   ]
  },
  {
   "cell_type": "code",
   "execution_count": 11,
   "metadata": {},
   "outputs": [
    {
     "data": {
      "text/plain": [
       "dict"
      ]
     },
     "execution_count": 11,
     "metadata": {},
     "output_type": "execute_result"
    }
   ],
   "source": [
    "type(biodata)"
   ]
  },
  {
   "cell_type": "code",
   "execution_count": 13,
   "metadata": {},
   "outputs": [
    {
     "data": {
      "text/plain": [
       "'PCA1'"
      ]
     },
     "execution_count": 13,
     "metadata": {},
     "output_type": "execute_result"
    }
   ],
   "source": [
    "biodata['gung']['alamat']"
   ]
  },
  {
   "cell_type": "code",
   "execution_count": 14,
   "metadata": {},
   "outputs": [
    {
     "data": {
      "text/plain": [
       "{'nama': 'jaya', 'alamat': 'PCA2', 'nomor': 4321}"
      ]
     },
     "execution_count": 14,
     "metadata": {},
     "output_type": "execute_result"
    }
   ],
   "source": [
    "biodata['jaya']"
   ]
  },
  {
   "cell_type": "code",
   "execution_count": 16,
   "metadata": {},
   "outputs": [
    {
     "name": "stdout",
     "output_type": "stream",
     "text": [
      "{'nama': 'gung', 'alamat': 'PCA1', 'nomor': 1234}\n",
      "{'nama': 'jaya', 'alamat': 'PCA2', 'nomor': 4321}\n"
     ]
    }
   ],
   "source": [
    "for bio in biodata:\n",
    "    print(biodata[bio])"
   ]
  }
 ],
 "metadata": {
  "kernelspec": {
   "display_name": "Python 3",
   "language": "python",
   "name": "python3"
  },
  "language_info": {
   "codemirror_mode": {
    "name": "ipython",
    "version": 3
   },
   "file_extension": ".py",
   "mimetype": "text/x-python",
   "name": "python",
   "nbconvert_exporter": "python",
   "pygments_lexer": "ipython3",
   "version": "3.7.4"
  }
 },
 "nbformat": 4,
 "nbformat_minor": 2
}
