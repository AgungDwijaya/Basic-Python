{
 "cells": [
  {
   "cell_type": "markdown",
   "metadata": {},
   "source": [
    "# For_loop_codebasic\n"
   ]
  },
  {
   "cell_type": "code",
   "execution_count": 1,
   "metadata": {},
   "outputs": [
    {
     "name": "stdout",
     "output_type": "stream",
     "text": [
      "13020\n"
     ]
    }
   ],
   "source": [
    "exp = [2340,2500,2100,3100,2980]\n",
    "total = 0\n",
    "for item in exp:\n",
    "    total = total + item\n",
    "print(total)"
   ]
  },
  {
   "cell_type": "code",
   "execution_count": 5,
   "metadata": {},
   "outputs": [
    {
     "name": "stdout",
     "output_type": "stream",
     "text": [
      "1\n",
      "4\n",
      "9\n",
      "16\n",
      "25\n",
      "36\n",
      "49\n",
      "64\n",
      "81\n",
      "100\n"
     ]
    }
   ],
   "source": [
    "for x in range(1,11):\n",
    "    print(x*x)"
   ]
  },
  {
   "cell_type": "code",
   "execution_count": 7,
   "metadata": {},
   "outputs": [
    {
     "name": "stdout",
     "output_type": "stream",
     "text": [
      "Month: 1 Expense: 2340\n",
      "Month: 2 Expense: 2500\n",
      "Month: 3 Expense: 2100\n",
      "Month: 4 Expense: 3100\n",
      "Month: 5 Expense: 2980\n",
      "Total expense is: 13020\n"
     ]
    }
   ],
   "source": [
    "exp = [2340,2500,2100,3100,2980]\n",
    "total = 0\n",
    "for x in range(len(exp)):\n",
    "    print('Month:', (x+1), 'Expense:', exp[x])\n",
    "    total = total + exp[x]\n",
    "    \n",
    "print('Total expense is:', total)"
   ]
  },
  {
   "cell_type": "markdown",
   "metadata": {},
   "source": [
    "<em>Katakanlah teman\" mencari kunci yang lupa naruhnya dimana, pada kasus ini for loop dapat digunakan untuk kasus ini</em>"
   ]
  },
  {
   "cell_type": "code",
   "execution_count": 10,
   "metadata": {},
   "outputs": [
    {
     "name": "stdout",
     "output_type": "stream",
     "text": [
      "Kunci tidak ditemukan ruang tamu\n",
      "Kunci tidak ditemukan dapur\n",
      "Kunci tidak ditemukan kamar mandi\n",
      "Kunci ditemukan di kamar tidur\n"
     ]
    }
   ],
   "source": [
    "lokasi_kunci=\"kamar tidur\"\n",
    "lokasi=[\"ruang tamu\", \"dapur\", \"kamar mandi\", \"kamar tidur\"]\n",
    "for x in lokasi:\n",
    "    if x==lokasi_kunci:\n",
    "        print(\"Kunci ditemukan di\", x)\n",
    "        break\n",
    "    else:\n",
    "        print(\"Kunci tidak ditemukan\", x)"
   ]
  },
  {
   "cell_type": "markdown",
   "metadata": {},
   "source": [
    "<em>Continue statement digunakan ketika kita ingin melanjutkan iterasi yang telah kita buat, dan kita ingin melewatkan loop dari item tersebut maka kita gunakan statement continue</em>"
   ]
  },
  {
   "cell_type": "code",
   "execution_count": 19,
   "metadata": {},
   "outputs": [
    {
     "name": "stdout",
     "output_type": "stream",
     "text": [
      "1\n",
      "9\n",
      "25\n"
     ]
    }
   ],
   "source": [
    "for x in range(1,6):\n",
    "    if x%2==0:\n",
    "        continue\n",
    "    print(x*x)"
   ]
  },
  {
   "cell_type": "markdown",
   "metadata": {},
   "source": [
    "<em>While statement</em>"
   ]
  },
  {
   "cell_type": "code",
   "execution_count": 22,
   "metadata": {},
   "outputs": [
    {
     "name": "stdout",
     "output_type": "stream",
     "text": [
      "0\n",
      "1\n",
      "2\n",
      "3\n",
      "4\n",
      "5\n"
     ]
    }
   ],
   "source": [
    "x=0\n",
    "while x<=5:\n",
    "    print(x)\n",
    "    x= x + 1"
   ]
  }
 ],
 "metadata": {
  "kernelspec": {
   "display_name": "Python 3",
   "language": "python",
   "name": "python3"
  },
  "language_info": {
   "codemirror_mode": {
    "name": "ipython",
    "version": 3
   },
   "file_extension": ".py",
   "mimetype": "text/x-python",
   "name": "python",
   "nbconvert_exporter": "python",
   "pygments_lexer": "ipython3",
   "version": "3.7.4"
  }
 },
 "nbformat": 4,
 "nbformat_minor": 2
}
