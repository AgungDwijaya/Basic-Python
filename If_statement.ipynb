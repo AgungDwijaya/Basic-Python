{
 "cells": [
  {
   "cell_type": "markdown",
   "metadata": {},
   "source": [
    "<em>Mencari nomor apakah itu genap atau ganjil</em>"
   ]
  },
  {
   "cell_type": "code",
   "execution_count": null,
   "metadata": {},
   "outputs": [],
   "source": [
    "num=input(\"Masukkan nomor:\")\n",
    "num=int(num)\n",
    "if num%2 == 0:\n",
    "    print(\"Bilangan Genap\")\n",
    "else:\n",
    "    print(\"Bilangan Ganjil\")"
   ]
  },
  {
   "cell_type": "code",
   "execution_count": 14,
   "metadata": {},
   "outputs": [
    {
     "name": "stdout",
     "output_type": "stream",
     "text": [
      "Masukkan jenis makanan:Lawar\n",
      "Indonesia\n"
     ]
    }
   ],
   "source": [
    "Indonesia = [\"Nasi Goreng\", \"Lawar\", \"Sate\"]\n",
    "Jepang = [\"Sushi\", \"Takoyaki\", \"Nato\"]\n",
    "China = [\"Capcay\", \"Fuyung Hai\", \"Kolobak\"]\n",
    "\n",
    "makanan = input(\"Masukkan jenis makanan:\")\n",
    "\n",
    "if makanan in Indonesia:\n",
    "    print(\"Indonesia\")\n",
    "elif makanan in Jepang:\n",
    "    print(\"Jepang\")\n",
    "elif makanan in China:\n",
    "    print(\"China\")\n",
    "else:\n",
    "    print(\"Tidak tahu makanan dari mana!!!\")"
   ]
  }
 ],
 "metadata": {
  "kernelspec": {
   "display_name": "Python 3",
   "language": "python",
   "name": "python3"
  },
  "language_info": {
   "codemirror_mode": {
    "name": "ipython",
    "version": 3
   },
   "file_extension": ".py",
   "mimetype": "text/x-python",
   "name": "python",
   "nbconvert_exporter": "python",
   "pygments_lexer": "ipython3",
   "version": "3.7.4"
  }
 },
 "nbformat": 4,
 "nbformat_minor": 2
}
